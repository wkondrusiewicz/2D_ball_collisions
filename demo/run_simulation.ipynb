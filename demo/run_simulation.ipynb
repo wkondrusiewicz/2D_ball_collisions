{
 "cells": [
  {
   "cell_type": "code",
   "execution_count": 1,
   "metadata": {},
   "outputs": [],
   "source": [
    "from ball_collisions.solver import Solver\n",
    "from ball_collisions.atom import Atom\n",
    "from ball_collisions.vec2d import Vec2D\n",
    "from ball_collisions.polygon import Polygon\n",
    "from ball_collisions.system import System"
   ]
  },
  {
   "cell_type": "code",
   "execution_count": 2,
   "metadata": {},
   "outputs": [],
   "source": [
    "display = [Polygon([Vec2D(0, 0), Vec2D(0, 1), Vec2D(1, 1), Vec2D(1, 0)])]\n",
    "atoms = [Atom(mass=1,velocity=Vec2D(5,0), position=Vec2D(0.2, 0.2), radius=0.025), \n",
    "         Atom(mass=2,velocity=Vec2D(-1,1), position=Vec2D(0.8, 0.5), radius=0.025),\n",
    "         Atom(mass=10,velocity=Vec2D(5,0), position=Vec2D(0.2, 0.8), radius=0.1)]"
   ]
  },
  {
   "cell_type": "code",
   "execution_count": 4,
   "metadata": {},
   "outputs": [],
   "source": [
    "SYSTEM = System(atoms, display)"
   ]
  },
  {
   "cell_type": "code",
   "execution_count": 5,
   "metadata": {},
   "outputs": [],
   "source": [
    "SOVER = Solver(SYSTEM, dt=0.001)"
   ]
  },
  {
   "cell_type": "code",
   "execution_count": 6,
   "metadata": {},
   "outputs": [],
   "source": [
    "SOVER.run_system(total_iterations=5000)"
   ]
  },
  {
   "cell_type": "code",
   "execution_count": null,
   "metadata": {},
   "outputs": [],
   "source": []
  }
 ],
 "metadata": {
  "kernelspec": {
   "display_name": "Python 3",
   "language": "python",
   "name": "python3"
  },
  "language_info": {
   "codemirror_mode": {
    "name": "ipython",
    "version": 3
   },
   "file_extension": ".py",
   "mimetype": "text/x-python",
   "name": "python",
   "nbconvert_exporter": "python",
   "pygments_lexer": "ipython3",
   "version": "3.6.8"
  }
 },
 "nbformat": 4,
 "nbformat_minor": 4
}
